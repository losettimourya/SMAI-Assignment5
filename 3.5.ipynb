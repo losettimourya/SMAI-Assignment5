{
 "cells": [
  {
   "cell_type": "code",
   "execution_count": null,
   "metadata": {},
   "outputs": [],
   "source": [
    "import numpy as np\n",
    "from hmmlearn import hmm\n",
    "\n",
    "# Load the data\n",
    "runs_data = np.load('runs.npy')\n",
    "\n",
    "# Task 1: Find the optimal transition, emission, and start probability for the HMM model\n",
    "# Initialize HMM model\n",
    "model = hmm.MultinomialHMM(n_components=2, n_iter=100, tol=0.01)\n",
    "\n",
    "# Assume Virat starts the innings\n",
    "model.startprob_ = np.array([1.0, 0.0])\n",
    "\n",
    "# Estimate transition matrix\n",
    "model.fit(runs_data.reshape(-1, 1))\n",
    "\n",
    "# Estimate emission probabilities\n",
    "model.emissionprob_ = np.array([np.mean(runs_data[model.predict(runs_data.reshape(-1, 1)) == i], axis=0) for i in range(2)])\n",
    "\n",
    "# Print the estimated parameters\n",
    "print(\"Estimated Transition Matrix:\")\n",
    "print(model.transmat_)\n",
    "print(\"\\nEstimated Emission Probabilities:\")\n",
    "print(model.emissionprob_)\n",
    "print(\"\\nEstimated Start Probabilities:\")\n",
    "print(model.startprob_)\n",
    "\n",
    "# Task 2: Predict who played the first and last ball\n",
    "first_ball_player = \"Virat\" if model.startprob_[0] > model.startprob_[1] else \"Rohit\"\n",
    "last_ball_player = \"Virat\" if model.predict(runs_data[-1].reshape(1, -1))[0] == 0 else \"Rohit\"\n",
    "\n",
    "print(\"\\nPrediction:\")\n",
    "print(f\"The player who played the first ball: {first_ball_player}\")\n",
    "print(f\"The player who played the last ball: {last_ball_player}\")\n"
   ]
  }
 ],
 "metadata": {
  "language_info": {
   "name": "python"
  }
 },
 "nbformat": 4,
 "nbformat_minor": 2
}
