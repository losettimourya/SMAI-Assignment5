{
 "cells": [
  {
   "cell_type": "code",
   "execution_count": 76,
   "metadata": {},
   "outputs": [
    {
     "name": "stdout",
     "output_type": "stream",
     "text": [
      "Most Optimal Transition Matrix: [[0.59073733 0.40926267]\n",
      " [0.28434726 0.71565274]]\n",
      "Most Optimal Emission Probabilities: [[0.18072888 0.36398226 0.17799165 0.05351166 0.18854557 0.\n",
      "  0.03523998]\n",
      " [0.08678454 0.08673278 0.17631094 0.04439613 0.29908638 0.\n",
      "  0.30668924]]\n",
      "Most Optimal Start Probability: [9.99945605e-01 5.43952993e-05]\n"
     ]
    }
   ],
   "source": [
    "import numpy as np\n",
    "from hmmlearn import hmm\n",
    "\n",
    "np.random.seed(13)\n",
    "runs_data = np.load('runs.npy')\n",
    "\n",
    "best_score = float('-inf')\n",
    "best_model = None\n",
    "# Initialize transition matrix with 30% chance of strike change\n",
    "transition_init = np.array([[0.7,0.3],[0.3,0.7]])\n",
    "\n",
    "model = hmm.CategoricalHMM(n_components=2, init_params='')\n",
    "model.transmat_ = transition_init\n",
    "model.fit(runs_data.reshape(-1, 1))\n",
    "print(\"Most Optimal Transition Matrix: \" + str(model.transmat_))\n",
    "print(\"Most Optimal Emission Probabilities: \" + str(model.emissionprob_))\n",
    "print(\"Most Optimal Start Probability: \" + str(model.startprob_))\n"
   ]
  },
  {
   "cell_type": "code",
   "execution_count": 77,
   "metadata": {},
   "outputs": [
    {
     "name": "stdout",
     "output_type": "stream",
     "text": [
      "Player who played the first ball is: Virat\n",
      "Player who played the last ball is: Rohit\n"
     ]
    }
   ],
   "source": [
    "a = [None]*2\n",
    "emprob = model.emissionprob_.copy()\n",
    "if(emprob[0][1]+emprob[0][2] > emprob[1][1]+emprob[1][2]):\n",
    "    a[0] = \"Virat\"\n",
    "    a[1] = \"Rohit\"\n",
    "else:\n",
    "    a[0] = \"Rohit\"\n",
    "    a[1] = \"Virat\"\n",
    "predicted_states = model.predict(runs_data.reshape(-1,1))\n",
    "print(\"Player who played the first ball is: \", end=\"\")\n",
    "if(predicted_states[0] == 0):\n",
    "    print(a[0])\n",
    "else:\n",
    "    print(a[1])\n",
    "print(\"Player who played the last ball is: \", end=\"\")\n",
    "if(predicted_states[-1] == 0):\n",
    "    print(a[0])\n",
    "else:\n",
    "    print(a[1])\n",
    "    \n"
   ]
  }
 ],
 "metadata": {
  "kernelspec": {
   "display_name": "Python 3",
   "language": "python",
   "name": "python3"
  },
  "language_info": {
   "codemirror_mode": {
    "name": "ipython",
    "version": 3
   },
   "file_extension": ".py",
   "mimetype": "text/x-python",
   "name": "python",
   "nbconvert_exporter": "python",
   "pygments_lexer": "ipython3",
   "version": "3.10.6"
  }
 },
 "nbformat": 4,
 "nbformat_minor": 2
}
